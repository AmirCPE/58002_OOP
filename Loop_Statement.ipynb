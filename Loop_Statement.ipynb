{
  "nbformat": 4,
  "nbformat_minor": 0,
  "metadata": {
    "colab": {
      "provenance": [],
      "authorship_tag": "ABX9TyOexkx4Sj8w2l/cKIM/S7Sj",
      "include_colab_link": true
    },
    "kernelspec": {
      "name": "python3",
      "display_name": "Python 3"
    },
    "language_info": {
      "name": "python"
    }
  },
  "cells": [
    {
      "cell_type": "markdown",
      "metadata": {
        "id": "view-in-github",
        "colab_type": "text"
      },
      "source": [
        "<a href=\"https://colab.research.google.com/github/AmirGilbuena/58002_OOP/blob/main/Loop_Statement.ipynb\" target=\"_parent\"><img src=\"https://colab.research.google.com/assets/colab-badge.svg\" alt=\"Open In Colab\"/></a>"
      ]
    },
    {
      "cell_type": "markdown",
      "source": [
        "#LOOP STATEMENT\n",
        "\n",
        "for \"variable\" in \"list\""
      ],
      "metadata": {
        "id": "MTrGSDxklnDo"
      }
    },
    {
      "cell_type": "code",
      "execution_count": 1,
      "metadata": {
        "colab": {
          "base_uri": "https://localhost:8080/"
        },
        "id": "DgTOixi1kmIU",
        "outputId": "06dc429f-7b65-4d1c-dd80-5b0c17f5e947"
      },
      "outputs": [
        {
          "output_type": "stream",
          "name": "stdout",
          "text": [
            "Sunday\n",
            "Monday\n",
            "Tuesday\n",
            "Wednesday\n",
            "Thursday\n",
            "Friday\n",
            "Saturday\n"
          ]
        }
      ],
      "source": [
        "week = [\"Sunday\", \"Monday\", \"Tuesday\", \"Wednesday\",\"Thursday\",\"Friday\",\"Saturday\"]\n",
        "\n",
        "for x in week:\n",
        "  print(x)"
      ]
    },
    {
      "cell_type": "code",
      "source": [
        "week = [\"Sunday\", \"Monday\", \"Tuesday\", \"Wednesday\",\"Thursday\",\"Friday\",\"Saturday\"]\n",
        "\n",
        "for x in week:\n",
        "  print(x)\n",
        "  if x == \"Thursday\":\n",
        "    break"
      ],
      "metadata": {
        "colab": {
          "base_uri": "https://localhost:8080/"
        },
        "id": "DzaJEcSAmgtV",
        "outputId": "aca5f951-c593-4b9f-ca3a-21c289afd6a5"
      },
      "execution_count": 3,
      "outputs": [
        {
          "output_type": "stream",
          "name": "stdout",
          "text": [
            "Sunday\n",
            "Monday\n",
            "Tuesday\n",
            "Wednesday\n",
            "Thursday\n"
          ]
        }
      ]
    },
    {
      "cell_type": "markdown",
      "source": [
        "To Display only Thursday"
      ],
      "metadata": {
        "id": "IEOwNzBGpD2H"
      }
    },
    {
      "cell_type": "code",
      "source": [
        "week = [\"Sunday\", \"Monday\", \"Tuesday\", \"Wednesday\",\"Thursday\",\"Friday\",\"Saturday\"]\n",
        "\n",
        "for x in week:\n",
        "  if x == \"Thursday\":\n",
        "    print(x)\n",
        "    break"
      ],
      "metadata": {
        "colab": {
          "base_uri": "https://localhost:8080/"
        },
        "id": "V800_IatpGIv",
        "outputId": "7cb45651-3219-4bab-8f13-fa9ac4e223e8"
      },
      "execution_count": 22,
      "outputs": [
        {
          "output_type": "stream",
          "name": "stdout",
          "text": [
            "Thursday\n"
          ]
        }
      ]
    },
    {
      "cell_type": "markdown",
      "source": [
        "# LOOPING THROUGH A STRING"
      ],
      "metadata": {
        "id": "XTieYa5HnMRs"
      }
    },
    {
      "cell_type": "code",
      "source": [
        "for x in \"week\":\n",
        "  print (x)"
      ],
      "metadata": {
        "colab": {
          "base_uri": "https://localhost:8080/"
        },
        "id": "1AwJS34onBAV",
        "outputId": "d86429b9-db45-4e64-ae5a-4e75a0ae6281"
      },
      "execution_count": 4,
      "outputs": [
        {
          "output_type": "stream",
          "name": "stdout",
          "text": [
            "w\n",
            "e\n",
            "e\n",
            "k\n"
          ]
        }
      ]
    },
    {
      "cell_type": "markdown",
      "source": [
        "#The range() Function"
      ],
      "metadata": {
        "id": "XT3bo0AUncRM"
      }
    },
    {
      "cell_type": "code",
      "source": [
        "for x in range(6):\n",
        "  print(x)\n",
        "for x in range(2,6):\n",
        "  print(x)"
      ],
      "metadata": {
        "colab": {
          "base_uri": "https://localhost:8080/"
        },
        "id": "21Yq2DR7nfb0",
        "outputId": "708d8c2e-697a-468f-ee7d-d7df0cf25f3d"
      },
      "execution_count": 5,
      "outputs": [
        {
          "output_type": "stream",
          "name": "stdout",
          "text": [
            "0\n",
            "1\n",
            "2\n",
            "3\n",
            "4\n",
            "5\n",
            "2\n",
            "3\n",
            "4\n",
            "5\n"
          ]
        }
      ]
    },
    {
      "cell_type": "markdown",
      "source": [
        "#NESTED LOOPS"
      ],
      "metadata": {
        "id": "iguQ8gumoYE9"
      }
    },
    {
      "cell_type": "code",
      "source": [
        "adjective = [\"red\",\"big\",\"tasty\"]\n",
        "fruits = [\"apple\",\"banana\",\"cherry\"]\n",
        "\n",
        "for x in adjective:\n",
        "  for y in fruits:\n",
        "    print(x,y)"
      ],
      "metadata": {
        "colab": {
          "base_uri": "https://localhost:8080/"
        },
        "id": "LfkSEYXNoa4t",
        "outputId": "79a9811c-e8fa-469e-dece-2ff8fb5e2e3b"
      },
      "execution_count": 6,
      "outputs": [
        {
          "output_type": "stream",
          "name": "stdout",
          "text": [
            "red apple\n",
            "red banana\n",
            "red cherry\n",
            "big apple\n",
            "big banana\n",
            "big cherry\n",
            "tasty apple\n",
            "tasty banana\n",
            "tasty cherry\n"
          ]
        }
      ]
    },
    {
      "cell_type": "markdown",
      "source": [
        "#EXAMPLE 5"
      ],
      "metadata": {
        "id": "M8urJ9sTorZM"
      }
    },
    {
      "cell_type": "code",
      "source": [
        "i = 1\n",
        "while i < 6:\n",
        "  print(i)\n",
        "  i+=1 #ASSIGNMENT OPERATOR"
      ],
      "metadata": {
        "colab": {
          "base_uri": "https://localhost:8080/"
        },
        "id": "mlje0jzsosN2",
        "outputId": "21dd58fa-6e75-4b0d-b5f4-9b47f000ef7c"
      },
      "execution_count": 7,
      "outputs": [
        {
          "output_type": "stream",
          "name": "stdout",
          "text": [
            "1\n",
            "2\n",
            "3\n",
            "4\n",
            "5\n"
          ]
        }
      ]
    },
    {
      "cell_type": "markdown",
      "source": [
        "# THE BREAK STATEMENT"
      ],
      "metadata": {
        "id": "fL6EcCHvpws2"
      }
    },
    {
      "cell_type": "code",
      "source": [
        "i=1\n",
        "while i<6:\n",
        "  print(i)\n",
        "  if i==3:\n",
        "    break\n",
        "  i+=1\n",
        "    \n"
      ],
      "metadata": {
        "colab": {
          "base_uri": "https://localhost:8080/"
        },
        "id": "KKw6hCCKpvcP",
        "outputId": "cdfc2128-b195-494b-b7ed-4fc7c4b66e88"
      },
      "execution_count": 37,
      "outputs": [
        {
          "output_type": "stream",
          "name": "stdout",
          "text": [
            "1\n",
            "2\n",
            "3\n"
          ]
        }
      ]
    },
    {
      "cell_type": "markdown",
      "source": [
        "# THE CONTINUE STATEMENT"
      ],
      "metadata": {
        "id": "qSH1cov6tC8b"
      }
    },
    {
      "cell_type": "code",
      "source": [
        "i=0\n",
        "while i<6:\n",
        "  i+=1\n",
        "  if i==3:\n",
        "    continue\n",
        "  print(i)"
      ],
      "metadata": {
        "colab": {
          "base_uri": "https://localhost:8080/"
        },
        "id": "LxV_XukvtD_S",
        "outputId": "c9ba42ac-58ef-45b3-e51b-df6ddc0b345b"
      },
      "execution_count": 38,
      "outputs": [
        {
          "output_type": "stream",
          "name": "stdout",
          "text": [
            "1\n",
            "2\n",
            "4\n",
            "5\n",
            "6\n"
          ]
        }
      ]
    },
    {
      "cell_type": "markdown",
      "source": [
        "# The else Statement"
      ],
      "metadata": {
        "id": "2OrGAdDVtT9i"
      }
    },
    {
      "cell_type": "code",
      "source": [
        "i = 1\n",
        "while i < 6:\n",
        "  print(i)\n",
        "  i+=1\n",
        "else:\n",
        "  print(\"i is no longer less than 6\")"
      ],
      "metadata": {
        "colab": {
          "base_uri": "https://localhost:8080/"
        },
        "id": "_wiakchbtYZr",
        "outputId": "e3889d5d-b87a-4a7f-db2d-e19ea0933f2e"
      },
      "execution_count": 39,
      "outputs": [
        {
          "output_type": "stream",
          "name": "stdout",
          "text": [
            "1\n",
            "2\n",
            "3\n",
            "4\n",
            "5\n",
            "i is no longer less than 6\n"
          ]
        }
      ]
    },
    {
      "cell_type": "markdown",
      "source": [
        "Let's try"
      ],
      "metadata": {
        "id": "8fxfwJr-tiDL"
      }
    },
    {
      "cell_type": "code",
      "source": [
        "Greetings = [\"Hello\",\"Hi\",\"Wsg\"]\n",
        "Count = [\"0\",\"1\",\"2\",\"3\",\"4\",\"5\",\"6\",\"7\",\"8\",\"9\",\"10\"]\n",
        "\n",
        "for x in Greetings:\n",
        "  for y in Count:\n",
        "    print(x,y)"
      ],
      "metadata": {
        "colab": {
          "base_uri": "https://localhost:8080/"
        },
        "id": "e7cURp-Ntk0r",
        "outputId": "44394eec-c10b-46b2-e9cf-4dd5ed73e37d"
      },
      "execution_count": 46,
      "outputs": [
        {
          "output_type": "stream",
          "name": "stdout",
          "text": [
            "Hello 0\n",
            "Hello 1\n",
            "Hello 2\n",
            "Hello 3\n",
            "Hello 4\n",
            "Hello 5\n",
            "Hello 6\n",
            "Hello 7\n",
            "Hello 8\n",
            "Hello 9\n",
            "Hello 10\n",
            "Hi 0\n",
            "Hi 1\n",
            "Hi 2\n",
            "Hi 3\n",
            "Hi 4\n",
            "Hi 5\n",
            "Hi 6\n",
            "Hi 7\n",
            "Hi 8\n",
            "Hi 9\n",
            "Hi 10\n",
            "Wsg 0\n",
            "Wsg 1\n",
            "Wsg 2\n",
            "Wsg 3\n",
            "Wsg 4\n",
            "Wsg 5\n",
            "Wsg 6\n",
            "Wsg 7\n",
            "Wsg 8\n",
            "Wsg 9\n",
            "Wsg 10\n"
          ]
        }
      ]
    },
    {
      "cell_type": "code",
      "source": [
        "for i in range(11):\n",
        "  print(\"Hello\", i)"
      ],
      "metadata": {
        "colab": {
          "base_uri": "https://localhost:8080/"
        },
        "id": "98tY_nb9waG9",
        "outputId": "d20fd9b5-701c-4e75-c8ce-78461954444d"
      },
      "execution_count": 56,
      "outputs": [
        {
          "output_type": "stream",
          "name": "stdout",
          "text": [
            "Hello 0\n",
            "Hello 1\n",
            "Hello 2\n",
            "Hello 3\n",
            "Hello 4\n",
            "Hello 5\n",
            "Hello 6\n",
            "Hello 7\n",
            "Hello 8\n",
            "Hello 9\n",
            "Hello 10\n"
          ]
        }
      ]
    },
    {
      "cell_type": "code",
      "source": [
        "for x in \"hello\":\n",
        "  print(x)"
      ],
      "metadata": {
        "colab": {
          "base_uri": "https://localhost:8080/"
        },
        "id": "HH5PrjKNvb_F",
        "outputId": "789822cd-fee6-4b38-ebd6-6cb8a9bf7f23"
      },
      "execution_count": 54,
      "outputs": [
        {
          "output_type": "stream",
          "name": "stdout",
          "text": [
            "h\n",
            "e\n",
            "l\n",
            "l\n",
            "o\n"
          ]
        }
      ]
    },
    {
      "cell_type": "markdown",
      "source": [
        "Let's try #2"
      ],
      "metadata": {
        "id": "bVUHjOGWubZV"
      }
    },
    {
      "cell_type": "code",
      "source": [
        "i = 3\n",
        "while i < 10:\n",
        "  print(i)\n",
        "  i+=1"
      ],
      "metadata": {
        "colab": {
          "base_uri": "https://localhost:8080/"
        },
        "id": "3PSOrWayuaeu",
        "outputId": "ec9db760-da62-4f0c-fddd-76ec6d0cecb2"
      },
      "execution_count": 48,
      "outputs": [
        {
          "output_type": "stream",
          "name": "stdout",
          "text": [
            "3\n",
            "4\n",
            "5\n",
            "6\n",
            "7\n",
            "8\n",
            "9\n"
          ]
        }
      ]
    },
    {
      "cell_type": "code",
      "source": [
        "for i in range (3,10):\n",
        "  print(i)"
      ],
      "metadata": {
        "colab": {
          "base_uri": "https://localhost:8080/"
        },
        "id": "SbJf7zGQwqcF",
        "outputId": "60b6731a-48b4-42f3-be7e-023cf4f22c04"
      },
      "execution_count": 57,
      "outputs": [
        {
          "output_type": "stream",
          "name": "stdout",
          "text": [
            "3\n",
            "4\n",
            "5\n",
            "6\n",
            "7\n",
            "8\n",
            "9\n"
          ]
        }
      ]
    },
    {
      "cell_type": "code",
      "source": [
        "s1 = \"mit u rock\"\n",
        "s2 = \"i rule mit\"\n",
        "if len(s1) == len(s2):\n",
        "  for char1 in s1:\n",
        "    for char2 in s2:\n",
        "      if char1 == char2:\n",
        "        print(\"common letter\")\n",
        "        break"
      ],
      "metadata": {
        "colab": {
          "base_uri": "https://localhost:8080/"
        },
        "id": "ozWMV_luwHKv",
        "outputId": "5aceb9b6-ea2a-4afe-872e-f221fc70e59d"
      },
      "execution_count": 55,
      "outputs": [
        {
          "output_type": "stream",
          "name": "stdout",
          "text": [
            "common letter\n",
            "common letter\n",
            "common letter\n",
            "common letter\n",
            "common letter\n",
            "common letter\n",
            "common letter\n"
          ]
        }
      ]
    }
  ]
}