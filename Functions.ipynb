{
  "nbformat": 4,
  "nbformat_minor": 0,
  "metadata": {
    "colab": {
      "provenance": [],
      "authorship_tag": "ABX9TyM4RbpRI4q7ngJuSjdnrLI0",
      "include_colab_link": true
    },
    "kernelspec": {
      "name": "python3",
      "display_name": "Python 3"
    },
    "language_info": {
      "name": "python"
    }
  },
  "cells": [
    {
      "cell_type": "markdown",
      "metadata": {
        "id": "view-in-github",
        "colab_type": "text"
      },
      "source": [
        "<a href=\"https://colab.research.google.com/github/AmirGilbuena/58002_OOP/blob/main/Functions.ipynb\" target=\"_parent\"><img src=\"https://colab.research.google.com/assets/colab-badge.svg\" alt=\"Open In Colab\"/></a>"
      ]
    },
    {
      "cell_type": "markdown",
      "source": [
        "VARIABLES | DATA TYPES"
      ],
      "metadata": {
        "id": "m4gJEwrxzEZS"
      }
    },
    {
      "cell_type": "markdown",
      "source": [
        "Numbers"
      ],
      "metadata": {
        "id": "KdoHHAx1zkSq"
      }
    },
    {
      "cell_type": "code",
      "execution_count": null,
      "metadata": {
        "id": "1oZZCz_ZypuI"
      },
      "outputs": [],
      "source": [
        "varNum = 123\n",
        "pi = 3.14159"
      ]
    },
    {
      "cell_type": "markdown",
      "source": [
        "Strings"
      ],
      "metadata": {
        "id": "TlG-UBeYzseK"
      }
    },
    {
      "cell_type": "code",
      "source": [
        "varString = \"Hello World!\"\n",
        "varText = \"This is a string\""
      ],
      "metadata": {
        "id": "NFWrB3M5ztSt"
      },
      "execution_count": null,
      "outputs": []
    },
    {
      "cell_type": "markdown",
      "source": [
        "Lists"
      ],
      "metadata": {
        "id": "PkSedMhBz1re"
      }
    },
    {
      "cell_type": "code",
      "source": [
        "varList = [\"abc\",123]"
      ],
      "metadata": {
        "id": "aUYar-2Yz2aG"
      },
      "execution_count": null,
      "outputs": []
    },
    {
      "cell_type": "markdown",
      "source": [
        "Tuples"
      ],
      "metadata": {
        "id": "t5yg1kNRz4fe"
      }
    },
    {
      "cell_type": "code",
      "source": [
        "varTuple = [\"abc\", 123, \"HELLO\"]"
      ],
      "metadata": {
        "id": "UFhJ7LVKz5--"
      },
      "execution_count": null,
      "outputs": []
    },
    {
      "cell_type": "markdown",
      "source": [
        "Dictionaries"
      ],
      "metadata": {
        "id": "y-zI5a4_0A0N"
      }
    },
    {
      "cell_type": "code",
      "source": [
        "var = 3\n",
        "varDict = {'first':1,'2':'2nd',3:var}\n",
        "varDict = {}\n",
        "varDict ['first'] = 1\n",
        "varDict ['2'] = '2nd'\n",
        "varDict [3] = var"
      ],
      "metadata": {
        "id": "kIWlyhof0Boe"
      },
      "execution_count": null,
      "outputs": []
    },
    {
      "cell_type": "markdown",
      "source": [
        "# EXAMPLE"
      ],
      "metadata": {
        "id": "Kz6vsnuF0oz3"
      }
    },
    {
      "cell_type": "code",
      "source": [
        "class Shape:\n",
        "  def __init__(self, length, width):\n",
        "    self.length = length\n",
        "    self.width = width\n",
        "    \n",
        "  def area_rec(self):\n",
        "    return self.length * self.width\n",
        "   #def area_sqr(self,side):\n",
        "     # return self.side *self.side\n",
        "\n",
        "rectangle = Shape(10,5)\n",
        "rectangle.area_rec()"
      ],
      "metadata": {
        "colab": {
          "base_uri": "https://localhost:8080/"
        },
        "id": "q3907EmK0ulF",
        "outputId": "da920d6b-b10e-42ef-c526-1bd9b6302988"
      },
      "execution_count": 12,
      "outputs": [
        {
          "output_type": "execute_result",
          "data": {
            "text/plain": [
              "50"
            ]
          },
          "metadata": {},
          "execution_count": 12
        }
      ]
    },
    {
      "cell_type": "markdown",
      "source": [
        "Create a function that will display your full name and name your class as person"
      ],
      "metadata": {
        "id": "ZS2KR-HE3cvP"
      }
    },
    {
      "cell_type": "code",
      "source": [
        "class Shape:\n",
        "  def __init__(self, length, width):\n",
        "    self.length = length\n",
        "    self.width = width\n",
        "    \n",
        "  def area_rec(self):\n",
        "    return self.length * self.width\n",
        "   #def area_sqr(self,side):\n",
        "     # return self.side *self.side\n",
        "\n",
        "rectangle = Shape(10,5)\n",
        "rectangle.area_rec()"
      ],
      "metadata": {
        "id": "JTY1Ez2D5Q9z"
      },
      "execution_count": null,
      "outputs": []
    },
    {
      "cell_type": "code",
      "source": [
        "class Person:\n",
        "  def display_name(self):\n",
        "    self.display_name = display_name\n",
        "    "
      ],
      "metadata": {
        "id": "qtlSSXt36JBk"
      },
      "execution_count": null,
      "outputs": []
    },
    {
      "cell_type": "code",
      "source": [
        "def personal_details():\n",
        "    name, age = \"Amir Gerald G. Gilbuena\", 18\n",
        "    address = \"Quezon City, Novaliches\"\n",
        "    print(\"Name: {}\\nAge: {}\\nAddress: {}\".format(name, age, address))\n",
        "\n",
        "\n",
        "personal_details()\n"
      ],
      "metadata": {
        "colab": {
          "base_uri": "https://localhost:8080/"
        },
        "id": "luAv5Yk87-X2",
        "outputId": "2be72633-5200-488e-f4c9-3c4d7862af64"
      },
      "execution_count": 32,
      "outputs": [
        {
          "output_type": "stream",
          "name": "stdout",
          "text": [
            "Name: Amir Gerald G. Gilbuena\n",
            "Age: 18\n",
            "Address: Quezon City, Novaliches\n"
          ]
        }
      ]
    },
    {
      "cell_type": "code",
      "source": [
        "def name():\n",
        "  return \"Amir Gilbuena\"\n",
        "print(\"My name is \"+ name())"
      ],
      "metadata": {
        "colab": {
          "base_uri": "https://localhost:8080/"
        },
        "id": "k23_yGSt9fpD",
        "outputId": "5679f804-498a-42e0-9626-e41b5423f776"
      },
      "execution_count": 30,
      "outputs": [
        {
          "output_type": "stream",
          "name": "stdout",
          "text": [
            "My name is Amir Gilbuena\n"
          ]
        }
      ]
    }
  ]
}