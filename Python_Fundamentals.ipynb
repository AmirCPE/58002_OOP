{
  "nbformat": 4,
  "nbformat_minor": 0,
  "metadata": {
    "colab": {
      "provenance": [],
      "authorship_tag": "ABX9TyMqmJ8ZSKwgbvI642GFnkoc",
      "include_colab_link": true
    },
    "kernelspec": {
      "name": "python3",
      "display_name": "Python 3"
    },
    "language_info": {
      "name": "python"
    }
  },
  "cells": [
    {
      "cell_type": "markdown",
      "metadata": {
        "id": "view-in-github",
        "colab_type": "text"
      },
      "source": [
        "<a href=\"https://colab.research.google.com/github/AmirGilbuena/58002_OOP/blob/main/Python_Fundamentals.ipynb\" target=\"_parent\"><img src=\"https://colab.research.google.com/assets/colab-badge.svg\" alt=\"Open In Colab\"/></a>"
      ]
    },
    {
      "cell_type": "markdown",
      "source": [
        "**Python Indentation**"
      ],
      "metadata": {
        "id": "eHD1xVp5w2f2"
      }
    },
    {
      "cell_type": "code",
      "execution_count": 1,
      "metadata": {
        "colab": {
          "base_uri": "https://localhost:8080/"
        },
        "id": "K4kPdTdDwdS6",
        "outputId": "97f52647-51be-48c5-8153-c4ddda8ae5dc"
      },
      "outputs": [
        {
          "output_type": "stream",
          "name": "stdout",
          "text": [
            "Five is greater than two!\n"
          ]
        }
      ],
      "source": [
        "if 5 > 2:\n",
        "  print(\"Five is greater than two!\")"
      ]
    },
    {
      "cell_type": "markdown",
      "source": [
        "**PYTHON COMMENTS**"
      ],
      "metadata": {
        "id": "_QOecIwexx6O"
      }
    },
    {
      "cell_type": "markdown",
      "source": [
        "To write comments in python use = #\n",
        " for example."
      ],
      "metadata": {
        "id": "sb7jl19LyBQv"
      }
    },
    {
      "cell_type": "code",
      "source": [
        "#This is a comment\n",
        "print(\"Hello, world\")"
      ],
      "metadata": {
        "colab": {
          "base_uri": "https://localhost:8080/"
        },
        "id": "GlcubWaHyJQ2",
        "outputId": "19dfa166-3fe0-4a8a-e439-701444d9c8ab"
      },
      "execution_count": 2,
      "outputs": [
        {
          "output_type": "stream",
          "name": "stdout",
          "text": [
            "Hello, world\n"
          ]
        }
      ]
    },
    {
      "cell_type": "markdown",
      "source": [
        "Naming Variables"
      ],
      "metadata": {
        "id": "Itd0aPcEyRjm"
      }
    },
    {
      "cell_type": "code",
      "source": [
        "#Single variable with single value\n",
        "x = 1\n",
        "y = 2\n",
        "print(x)\n",
        "print(y)\n",
        "\n",
        "#TO MULTIPLY VARIABLES WITH A SINGLE VALUE\n",
        "\n",
        "a = b = c = \"Amir\"\n",
        "\n",
        "#Multiple variable with a single value is accepted in Python\n",
        "\n",
        "print (a)\n",
        "print (b)\n",
        "print (c)\n",
        "\n",
        "#multiple variables with multiple values\n",
        "\n",
        "e, f, g= \"I\", \"miss,\", \"you\"\n",
        "print (e)\n",
        "print (f)\n",
        "print (g)"
      ],
      "metadata": {
        "colab": {
          "base_uri": "https://localhost:8080/"
        },
        "id": "pcxhgdC5yj-m",
        "outputId": "2d8ab470-abe0-4699-b510-ee9cef9c7a6b"
      },
      "execution_count": 10,
      "outputs": [
        {
          "output_type": "stream",
          "name": "stdout",
          "text": [
            "1\n",
            "2\n",
            "Amir\n",
            "Amir\n",
            "Amir\n",
            "I\n",
            "miss,\n",
            "you\n"
          ]
        }
      ]
    },
    {
      "cell_type": "markdown",
      "source": [
        "Single or Double\n",
        "\n"
      ],
      "metadata": {
        "id": "M_iFOpDM0u-3"
      }
    },
    {
      "cell_type": "code",
      "source": [
        "v = \"Sally\"\n",
        "u = 'Sally'\n",
        "print (u)\n",
        "print (v)"
      ],
      "metadata": {
        "colab": {
          "base_uri": "https://localhost:8080/"
        },
        "id": "Dd2Lx9lY02v-",
        "outputId": "2f8ce47d-f404-4bdc-9a93-bc94e4bedf34"
      },
      "execution_count": 11,
      "outputs": [
        {
          "output_type": "stream",
          "name": "stdout",
          "text": [
            "Sally\n",
            "Sally\n"
          ]
        }
      ]
    },
    {
      "cell_type": "markdown",
      "source": [
        "CASTING"
      ],
      "metadata": {
        "id": "OprIodSs1Ksu"
      }
    },
    {
      "cell_type": "code",
      "source": [
        "p = int(5)\n",
        "p"
      ],
      "metadata": {
        "colab": {
          "base_uri": "https://localhost:8080/"
        },
        "id": "TXTT7cma1QOG",
        "outputId": "0ac7ac53-93f6-41c3-fbec-7147ff9af7c2"
      },
      "execution_count": 12,
      "outputs": [
        {
          "output_type": "execute_result",
          "data": {
            "text/plain": [
              "5"
            ]
          },
          "metadata": {},
          "execution_count": 12
        }
      ]
    },
    {
      "cell_type": "markdown",
      "source": [
        "Type() function\n",
        "\n",
        "# = font size for texts, in notes"
      ],
      "metadata": {
        "id": "XVUFsLgy1jXG"
      }
    },
    {
      "cell_type": "code",
      "source": [
        "f = \"alan\"\n",
        "g = 4.56\n",
        "\n",
        "print(type(f))\n",
        "print(type(g))"
      ],
      "metadata": {
        "colab": {
          "base_uri": "https://localhost:8080/"
        },
        "id": "RPFzcfSD1yoW",
        "outputId": "b938ec18-fc88-4ff8-a479-e9ecd16198b6"
      },
      "execution_count": 14,
      "outputs": [
        {
          "output_type": "stream",
          "name": "stdout",
          "text": [
            "<class 'str'>\n",
            "<class 'float'>\n"
          ]
        }
      ]
    },
    {
      "cell_type": "markdown",
      "source": [
        "Concatenation using + symbol"
      ],
      "metadata": {
        "id": "KAEzr2OT2phH"
      }
    },
    {
      "cell_type": "code",
      "source": [
        "k = \"fun\"\n",
        "print (\"Python Programming is \" + k)"
      ],
      "metadata": {
        "colab": {
          "base_uri": "https://localhost:8080/"
        },
        "id": "6sVHmt1m38Em",
        "outputId": "cb7af390-7226-4ff5-bdd9-84bc6dae80f2"
      },
      "execution_count": 20,
      "outputs": [
        {
          "output_type": "stream",
          "name": "stdout",
          "text": [
            "Python Programming is fun\n"
          ]
        }
      ]
    },
    {
      "cell_type": "code",
      "source": [
        "k = \"fun\"\n",
        "j = \"Python Programming is \"\n",
        "print(j + k)"
      ],
      "metadata": {
        "colab": {
          "base_uri": "https://localhost:8080/"
        },
        "id": "H3XSFVIV3Htl",
        "outputId": "0d8cdcaa-9dc9-4ca6-dc0f-7de80a69711e"
      },
      "execution_count": 21,
      "outputs": [
        {
          "output_type": "stream",
          "name": "stdout",
          "text": [
            "Python Programming is fun\n"
          ]
        }
      ]
    }
  ]
}