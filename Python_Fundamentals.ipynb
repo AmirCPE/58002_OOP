{
  "nbformat": 4,
  "nbformat_minor": 0,
  "metadata": {
    "colab": {
      "provenance": [],
      "authorship_tag": "ABX9TyOsNsDxAqR9Y31nLUjwmcbu",
      "include_colab_link": true
    },
    "kernelspec": {
      "name": "python3",
      "display_name": "Python 3"
    },
    "language_info": {
      "name": "python"
    }
  },
  "cells": [
    {
      "cell_type": "markdown",
      "metadata": {
        "id": "view-in-github",
        "colab_type": "text"
      },
      "source": [
        "<a href=\"https://colab.research.google.com/github/AmirGilbuena/58002_OOP/blob/main/Python_Fundamentals.ipynb\" target=\"_parent\"><img src=\"https://colab.research.google.com/assets/colab-badge.svg\" alt=\"Open In Colab\"/></a>"
      ]
    },
    {
      "cell_type": "markdown",
      "source": [
        "**Python Indentation**"
      ],
      "metadata": {
        "id": "eHD1xVp5w2f2"
      }
    },
    {
      "cell_type": "code",
      "execution_count": 1,
      "metadata": {
        "colab": {
          "base_uri": "https://localhost:8080/"
        },
        "id": "K4kPdTdDwdS6",
        "outputId": "97f52647-51be-48c5-8153-c4ddda8ae5dc"
      },
      "outputs": [
        {
          "output_type": "stream",
          "name": "stdout",
          "text": [
            "Five is greater than two!\n"
          ]
        }
      ],
      "source": [
        "if 5 > 2:\n",
        "  print(\"Five is greater than two!\")"
      ]
    },
    {
      "cell_type": "markdown",
      "source": [
        "**PYTHON COMMENTS**"
      ],
      "metadata": {
        "id": "_QOecIwexx6O"
      }
    },
    {
      "cell_type": "markdown",
      "source": [
        "To write comments in python use = #\n",
        " for example."
      ],
      "metadata": {
        "id": "sb7jl19LyBQv"
      }
    },
    {
      "cell_type": "code",
      "source": [
        "#This is a comment\n",
        "print(\"Hello, world\")"
      ],
      "metadata": {
        "colab": {
          "base_uri": "https://localhost:8080/"
        },
        "id": "GlcubWaHyJQ2",
        "outputId": "19dfa166-3fe0-4a8a-e439-701444d9c8ab"
      },
      "execution_count": 2,
      "outputs": [
        {
          "output_type": "stream",
          "name": "stdout",
          "text": [
            "Hello, world\n"
          ]
        }
      ]
    },
    {
      "cell_type": "markdown",
      "source": [
        "Naming Variables"
      ],
      "metadata": {
        "id": "Itd0aPcEyRjm"
      }
    },
    {
      "cell_type": "code",
      "source": [
        "#Single variable with single value\n",
        "x = 1\n",
        "y = 2\n",
        "print(x)\n",
        "print(y)\n",
        "\n",
        "#TO MULTIPLY VARIABLES WITH A SINGLE VALUE\n",
        "\n",
        "a = b = c = \"Amir\"\n",
        "\n",
        "#Multiple variable with a single value is accepted in Python\n",
        "\n",
        "print (a)\n",
        "print (b)\n",
        "print (c)"
      ],
      "metadata": {
        "colab": {
          "base_uri": "https://localhost:8080/"
        },
        "id": "pcxhgdC5yj-m",
        "outputId": "ba84245d-21ca-4a58-a7c7-9a71898d04bf"
      },
      "execution_count": 9,
      "outputs": [
        {
          "output_type": "stream",
          "name": "stdout",
          "text": [
            "1\n",
            "2\n",
            "Amir\n",
            "Amir\n",
            "Amir\n"
          ]
        }
      ]
    }
  ]
}