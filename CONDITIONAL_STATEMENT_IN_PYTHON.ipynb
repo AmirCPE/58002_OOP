{
  "nbformat": 4,
  "nbformat_minor": 0,
  "metadata": {
    "colab": {
      "provenance": [],
      "authorship_tag": "ABX9TyN8TZNYRWuhLjxPhlx2EK79",
      "include_colab_link": true
    },
    "kernelspec": {
      "name": "python3",
      "display_name": "Python 3"
    },
    "language_info": {
      "name": "python"
    }
  },
  "cells": [
    {
      "cell_type": "markdown",
      "metadata": {
        "id": "view-in-github",
        "colab_type": "text"
      },
      "source": [
        "<a href=\"https://colab.research.google.com/github/AmirGilbuena/58002_OOP/blob/main/CONDITIONAL_STATEMENT_IN_PYTHON.ipynb\" target=\"_parent\"><img src=\"https://colab.research.google.com/assets/colab-badge.svg\" alt=\"Open In Colab\"/></a>"
      ]
    },
    {
      "cell_type": "markdown",
      "source": [
        "#Conditional Statement in Python"
      ],
      "metadata": {
        "id": "wGAgWJ_Pi15X"
      }
    },
    {
      "cell_type": "markdown",
      "source": [
        "Type of control structures\n",
        "\n",
        "```\n",
        "# This is formatted as code\n",
        "```\n",
        "\n"
      ],
      "metadata": {
        "id": "a_VCUtaBjHi-"
      }
    },
    {
      "cell_type": "code",
      "execution_count": null,
      "metadata": {
        "id": "Og5qzlEUi0_B"
      },
      "outputs": [],
      "source": [
        "#Equals: a==b\n",
        "#Not Equals: a!=b\n",
        "#Less than: a < b\n"
      ]
    },
    {
      "cell_type": "markdown",
      "source": [
        "If statement"
      ],
      "metadata": {
        "id": "-3_3NJ0zjS6P"
      }
    },
    {
      "cell_type": "code",
      "source": [
        "#If statement\n",
        "a = 100\n",
        "b = 50\n",
        "if a>b:\n",
        "    print(\"a is greater than b\")"
      ],
      "metadata": {
        "colab": {
          "base_uri": "https://localhost:8080/"
        },
        "id": "539PtoSflDgp",
        "outputId": "bd8fa948-3460-4a6e-f81e-ad9032733243"
      },
      "execution_count": 11,
      "outputs": [
        {
          "output_type": "stream",
          "name": "stdout",
          "text": [
            "a is greater than b\n"
          ]
        }
      ]
    },
    {
      "cell_type": "code",
      "source": [
        "#example\n",
        "a = 12\n",
        "b = 100 \n",
        "b > a\n",
        "\n",
        "print(\"B is greater than a\")"
      ],
      "metadata": {
        "colab": {
          "base_uri": "https://localhost:8080/"
        },
        "id": "XsYDj1H6jUGX",
        "outputId": "7e920b3f-9491-4487-985b-5f92e0e97db3"
      },
      "execution_count": 3,
      "outputs": [
        {
          "output_type": "stream",
          "name": "stdout",
          "text": [
            "B is greater than a\n"
          ]
        }
      ]
    },
    {
      "cell_type": "markdown",
      "source": [
        "Elif Statements"
      ],
      "metadata": {
        "id": "eyv44k6QjlGn"
      }
    },
    {
      "cell_type": "code",
      "source": [
        "#Example\n",
        "a = 50\n",
        "b = 50\n",
        "\n",
        "if b > a:\n",
        "  print(\"b is greater than a\")\n",
        "elif a == b:\n",
        "  print(\"a and b are equal\")\n",
        "else:\n",
        "  print(\"a is greater than b\")"
      ],
      "metadata": {
        "colab": {
          "base_uri": "https://localhost:8080/"
        },
        "id": "jMYip8VYjmyH",
        "outputId": "00dc5192-2252-469f-adda-39b7bc057130"
      },
      "execution_count": 17,
      "outputs": [
        {
          "output_type": "stream",
          "name": "stdout",
          "text": [
            "a and b are equal\n"
          ]
        }
      ]
    },
    {
      "cell_type": "code",
      "source": [
        "#Elif Statements\n",
        "if a>b:\n",
        "  print(\"a is greater than b\")\n",
        "elif a<b:\n",
        "  print(\"a is less than b\")"
      ],
      "metadata": {
        "id": "bCk_RJs7lbQK"
      },
      "execution_count": 18,
      "outputs": []
    },
    {
      "cell_type": "markdown",
      "source": [
        "Else statement"
      ],
      "metadata": {
        "id": "tiqO_UeKlptp"
      }
    },
    {
      "cell_type": "code",
      "source": [
        "#Else Statements\n",
        "if a>b:\n",
        "  print(\"a is greater than b\")\n",
        "elif a<b:\n",
        "  print(\"a is less than b\")\n",
        "else:\n",
        "  print(\"a is equal to b\")"
      ],
      "metadata": {
        "colab": {
          "base_uri": "https://localhost:8080/"
        },
        "id": "S6qDRwXtlsCQ",
        "outputId": "53929e00-49af-482d-960f-40137cf1538c"
      },
      "execution_count": 19,
      "outputs": [
        {
          "output_type": "stream",
          "name": "stdout",
          "text": [
            "a is equal to b\n"
          ]
        }
      ]
    },
    {
      "cell_type": "markdown",
      "source": [
        "SHORTHAND IF"
      ],
      "metadata": {
        "id": "RtT7BjEhmMCa"
      }
    },
    {
      "cell_type": "code",
      "source": [
        "if a==b: print(\"a is equal to b\")"
      ],
      "metadata": {
        "colab": {
          "base_uri": "https://localhost:8080/"
        },
        "id": "DkGOr5P8mTXC",
        "outputId": "36e5578c-c553-49a0-d0a6-961bdcbafbf1"
      },
      "execution_count": 20,
      "outputs": [
        {
          "output_type": "stream",
          "name": "stdout",
          "text": [
            "a is equal to b\n"
          ]
        }
      ]
    },
    {
      "cell_type": "markdown",
      "source": [
        "SHORTHAND if..else"
      ],
      "metadata": {
        "id": "uq53Fd4Rmb6p"
      }
    },
    {
      "cell_type": "code",
      "source": [
        "print(\"a is greater than b\")if a>b else print(\"a is equal to b\")"
      ],
      "metadata": {
        "colab": {
          "base_uri": "https://localhost:8080/"
        },
        "id": "TfBuSIJ-mhJ5",
        "outputId": "e2fd8b9a-4ae1-4a5b-a5fa-1f2f0d71a2b1"
      },
      "execution_count": 21,
      "outputs": [
        {
          "output_type": "stream",
          "name": "stdout",
          "text": [
            "a is less than b\n"
          ]
        }
      ]
    },
    {
      "cell_type": "markdown",
      "source": [
        "And-both conditions are true\n"
      ],
      "metadata": {
        "id": "97OLMY-Qm4QL"
      }
    },
    {
      "cell_type": "code",
      "source": [
        "a = 200\n",
        "b = 33\n",
        "c = 500\n",
        "if a > b and a < c:\n",
        "  print(\"Both conditions are True\")"
      ],
      "metadata": {
        "colab": {
          "base_uri": "https://localhost:8080/"
        },
        "id": "KsUXFNU5m6_6",
        "outputId": "716a00b1-b170-4836-9856-f4c6426a149d"
      },
      "execution_count": 23,
      "outputs": [
        {
          "output_type": "stream",
          "name": "stdout",
          "text": [
            "Both conditions are True\n"
          ]
        }
      ]
    },
    {
      "cell_type": "markdown",
      "source": [
        "OR - condition atleast one is true"
      ],
      "metadata": {
        "id": "ExmLco08nQWC"
      }
    },
    {
      "cell_type": "code",
      "source": [
        "a = 200\n",
        "b = 33\n",
        "c = 500\n",
        "if a > b or a > c:\n",
        "  print(\"One conditions are True\")"
      ],
      "metadata": {
        "colab": {
          "base_uri": "https://localhost:8080/"
        },
        "id": "1nb9-snCnTpx",
        "outputId": "3896ddaf-8ed1-4b0e-bfb7-26cbcd353985"
      },
      "execution_count": 24,
      "outputs": [
        {
          "output_type": "stream",
          "name": "stdout",
          "text": [
            "One conditions are True\n"
          ]
        }
      ]
    },
    {
      "cell_type": "markdown",
      "source": [
        "And condition"
      ],
      "metadata": {
        "id": "lr4vNguWndip"
      }
    },
    {
      "cell_type": "code",
      "source": [
        "s = 75\n",
        "t = 70\n",
        "\n",
        "if s>t and t<s:\n",
        "  print(\"s > t and t<s\")"
      ],
      "metadata": {
        "colab": {
          "base_uri": "https://localhost:8080/"
        },
        "id": "bWbHJxaanekK",
        "outputId": "58df476c-ddac-4e6b-c933-9d3abf1ca43e"
      },
      "execution_count": 26,
      "outputs": [
        {
          "output_type": "stream",
          "name": "stdout",
          "text": [
            "s > t and t<s\n"
          ]
        }
      ]
    },
    {
      "cell_type": "markdown",
      "source": [
        "Or condition"
      ],
      "metadata": {
        "id": "6O5RHiksoA_-"
      }
    },
    {
      "cell_type": "code",
      "source": [
        "print(\"s is greater than t and t is less than s\")"
      ],
      "metadata": {
        "colab": {
          "base_uri": "https://localhost:8080/"
        },
        "id": "BUaognEQoCEG",
        "outputId": "5cf60c64-d8a4-44de-9902-9eebf5192b10"
      },
      "execution_count": 27,
      "outputs": [
        {
          "output_type": "stream",
          "name": "stdout",
          "text": [
            "s is greater than t and t is less than s\n"
          ]
        }
      ]
    },
    {
      "cell_type": "markdown",
      "source": [
        "Nested if"
      ],
      "metadata": {
        "id": "WM3VbJRKoZD2"
      }
    },
    {
      "cell_type": "code",
      "source": [
        "x = int(int(input()))\n",
        "if x>10:\n",
        "  print(\"Above ten,\")\n",
        "  if x>20:\n",
        "   print(\"also above 20!\")\n",
        "   if x>30:\n",
        "     print(\"also above 30!\")\n",
        "     if x>40:\n",
        "       print(\"also above 40\")\n",
        "       if x>50:\n",
        "         print(\"and also above 50\")\n",
        "       else:\n",
        "         print(\"below 50\")\n",
        "     else:\n",
        "       print(\"below 40\")\n",
        "   else:\n",
        "     print(\"below 30\")   \n",
        "  else:\n",
        "    print(\"below 20\")\n",
        "else:\n",
        "    print(\"but not above 20.\")"
      ],
      "metadata": {
        "colab": {
          "base_uri": "https://localhost:8080/"
        },
        "id": "zTaJsogcoZ4G",
        "outputId": "4a755f11-0cd6-4a14-a04e-07f45bb8e80b"
      },
      "execution_count": 44,
      "outputs": [
        {
          "output_type": "stream",
          "name": "stdout",
          "text": [
            "50\n",
            "Above ten,\n",
            "also above 20!\n",
            "also above 30!\n",
            "also above 40\n",
            "below 50\n"
          ]
        }
      ]
    },
    {
      "cell_type": "markdown",
      "source": [
        "EXAMPLE 1"
      ],
      "metadata": {
        "id": "ht4y9GAfppr3"
      }
    },
    {
      "cell_type": "code",
      "source": [
        "name = input(\"Enter name here: \")\n",
        "age = int(input(\"Enter your age: \"))\n",
        "\n",
        "if age >= 18:\n",
        "  print(\"Qualified, you're 18 years old and above\")"
      ],
      "metadata": {
        "colab": {
          "base_uri": "https://localhost:8080/"
        },
        "id": "NrQfJ7sWpqf3",
        "outputId": "7ea93cb1-9da3-41e7-f2bf-ebd5d5169954"
      },
      "execution_count": 43,
      "outputs": [
        {
          "output_type": "stream",
          "name": "stdout",
          "text": [
            "Enter name here: amir\n",
            "Enter your age: 18\n",
            "qualified\n"
          ]
        }
      ]
    },
    {
      "cell_type": "markdown",
      "source": [
        "EXAMPLE 2"
      ],
      "metadata": {
        "id": "9E_gD194sKrP"
      }
    },
    {
      "cell_type": "code",
      "source": [
        "number = int(input(\"Input a number here: \"))\n",
        "\n",
        "if number >= 1:\n",
        "  print(\"POSITIVE\")\n",
        "elif number == 0:\n",
        "  print(\"ZERO\")\n",
        "else:\n",
        "    print(\"NEGATIVE\")"
      ],
      "metadata": {
        "colab": {
          "base_uri": "https://localhost:8080/"
        },
        "id": "D9V87XwnsMf4",
        "outputId": "2ab59204-ac15-409f-801c-0ea55ff11f3b"
      },
      "execution_count": 46,
      "outputs": [
        {
          "output_type": "stream",
          "name": "stdout",
          "text": [
            "Input a number here: -1\n",
            "NEGATIVE\n"
          ]
        }
      ]
    },
    {
      "cell_type": "markdown",
      "source": [
        "EXAMPLE 3"
      ],
      "metadata": {
        "id": "uoic4bbftCvk"
      }
    },
    {
      "cell_type": "code",
      "source": [
        "grade = int(input(\"INPUT YOUR GRADE HERE!: \"))\n",
        "\n",
        "if grade < 0:\n",
        "  print(\"NOT ACCEPTED\")\n",
        "  exit()\n",
        "if grade >=70:\n",
        "    print(\"PASSED\")\n",
        "elif grade <= 69 and grade >= 65:\n",
        "    print(\"REMEDIAL\")\n",
        "elif grade <= 65 and grade >= 0:\n",
        "    print(\"FAILED\")"
      ],
      "metadata": {
        "colab": {
          "base_uri": "https://localhost:8080/"
        },
        "id": "ELTtekSstDXs",
        "outputId": "af953ca7-74ed-4a2c-8dc6-f160d33e12b5"
      },
      "execution_count": 1,
      "outputs": [
        {
          "output_type": "stream",
          "name": "stdout",
          "text": [
            "INPUT YOUR GRADE HERE!: -1\n",
            "NOT ACCEPTED\n"
          ]
        }
      ]
    }
  ]
}