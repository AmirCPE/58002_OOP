{
  "nbformat": 4,
  "nbformat_minor": 0,
  "metadata": {
    "colab": {
      "provenance": [],
      "authorship_tag": "ABX9TyNQ2dAihx5wYe/LiOpA6Doa",
      "include_colab_link": true
    },
    "kernelspec": {
      "name": "python3",
      "display_name": "Python 3"
    },
    "language_info": {
      "name": "python"
    }
  },
  "cells": [
    {
      "cell_type": "markdown",
      "metadata": {
        "id": "view-in-github",
        "colab_type": "text"
      },
      "source": [
        "<a href=\"https://colab.research.google.com/github/AmirGilbuena/58002_OOP/blob/main/OOP_CONCEPTS2_HANDS_ON.ipynb\" target=\"_parent\"><img src=\"https://colab.research.google.com/assets/colab-badge.svg\" alt=\"Open In Colab\"/></a>"
      ]
    },
    {
      "cell_type": "code",
      "source": [
        "class Student:\n",
        "  def __init__(self, std1, std2,std3 ,pre ,mid, fin):\n",
        "    self.std1 = std1\n",
        "    self.std2 = std2\n",
        "    self.std3 = std3\n",
        "    self.pre = pre\n",
        "    self.mid = mid\n",
        "    self.fin = fin\n",
        "\n",
        "  def get_sum(self):\n",
        "    sum = (self.pre + self.mid + self.fin)\n",
        "\n",
        "  def get_average(self):\n",
        "    average = sum/3\n",
        "\n",
        "\n",
        "student_num = input(\"Enter student number (1-3): \")\n",
        "\n",
        "if student_num == \"1\":\n",
        "    print(\"Student 1:\")\n",
        "\n",
        "    std1.pre = input(\"Enter your prelim grade: \")\n",
        "\n",
        "    std1.mid = input(\"Enter your midterm grade: \")\n",
        "\n",
        "    std1.fin = input(\"Enter your final grade: \")\n",
        "\n",
        "\n",
        "    print(\"Average:\", std1.get_average())\n",
        "elif student_num == \"2\":\n",
        "    print(\"Student 2:\")\n",
        "\n",
        "    std2.pre = input(\"Enter your prelim grade: \")\n",
        "\n",
        "    std2.mid = input(\"Enter your midterm grade: \")\n",
        "\n",
        "    std2.fin = input(\"Enter your final grade: \")\n",
        "\n",
        "\n",
        "    print(\"Average:\", std2.get_average())\n",
        "elif student_num == \"3\":\n",
        "    print(\"Student 3:\")\n",
        "\n",
        "    std3.pre = input(\"Enter your prelim grade: \")\n",
        "\n",
        "    std3.mid = input(\"Enter your midterm grade: \")\n",
        "\n",
        "    std3.fin = input(\"Enter your final grade: \")\n",
        "\n",
        "\n",
        "    print(\"Average:\", std3.get_average())\n",
        "else:\n",
        "    print(\"Invalid student number.\")"
      ],
      "metadata": {
        "colab": {
          "base_uri": "https://localhost:8080/"
        },
        "id": "aMpD-y5aFjCY",
        "outputId": "c59da405-e4a0-4378-b19e-fefb0abad09f"
      },
      "execution_count": 30,
      "outputs": [
        {
          "output_type": "stream",
          "name": "stdout",
          "text": [
            "Enter student number (1-3): 1\n",
            "Student 1:\n",
            "Enter your prelim grade: 87.2\n",
            "Enter your midterm grade: 87.2\n",
            "Enter your final grade: 88.5\n",
            "Average: 87.66666666666667\n"
          ]
        }
      ]
    }
  ]
}