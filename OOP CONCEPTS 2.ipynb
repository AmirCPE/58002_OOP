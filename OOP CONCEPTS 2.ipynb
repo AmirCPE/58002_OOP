{
  "nbformat": 4,
  "nbformat_minor": 0,
  "metadata": {
    "colab": {
      "provenance": [],
      "authorship_tag": "ABX9TyO8KFkrIsRc0bgLw+U2hXMA",
      "include_colab_link": true
    },
    "kernelspec": {
      "name": "python3",
      "display_name": "Python 3"
    },
    "language_info": {
      "name": "python"
    }
  },
  "cells": [
    {
      "cell_type": "markdown",
      "metadata": {
        "id": "view-in-github",
        "colab_type": "text"
      },
      "source": [
        "<a href=\"https://colab.research.google.com/github/AmirGilbuena/58002_OOP/blob/main/OOP%20CONCEPTS%202.ipynb\" target=\"_parent\"><img src=\"https://colab.research.google.com/assets/colab-badge.svg\" alt=\"Open In Colab\"/></a>"
      ]
    },
    {
      "cell_type": "code",
      "execution_count": 10,
      "metadata": {
        "colab": {
          "base_uri": "https://localhost:8080/"
        },
        "id": "1TuDHByZ6jmh",
        "outputId": "9b8148a8-f196-40bd-ee27-198102bbbc5e"
      },
      "outputs": [
        {
          "output_type": "stream",
          "name": "stdout",
          "text": [
            "The Eagle is the flying bird above the sky\n",
            "The Chicken is the non flying birds\n"
          ]
        }
      ],
      "source": [
        "class Birds:\n",
        "  def __init__(self,name_birds):\n",
        "    self.name_birds = name_birds\n",
        "  def flying_birds(self):\n",
        "    print(f\"The {self.name_birds} is the flying bird above the sky\")\n",
        "  def non_flying_birds(self):\n",
        "    print(f\"The {self.name_birds} is the non flying birds\")\n",
        "\n",
        "eagle = Birds(\"Eagle\")\n",
        "chicken = Birds(\"Chicken\")\n",
        "eagle.flying_birds()\n",
        "chicken.non_flying_birds()"
      ]
    },
    {
      "cell_type": "code",
      "source": [
        "#Encapsulation\n",
        "class foo:\n",
        "  def __init__(self, a,b):\n",
        "    self.a = a\n",
        "    self.b = b\n",
        "  def add(self):\n",
        "      return self.a + self.b\n",
        "foo_object = foo(3,4)\n",
        "foo_object.add()\n",
        "foo_object.a = 7\n",
        "foo_object.b = 6\n",
        "foo_object.add()"
      ],
      "metadata": {
        "colab": {
          "base_uri": "https://localhost:8080/"
        },
        "id": "79Bxn60c8Ifu",
        "outputId": "0bbab8e8-9ded-401f-8821-945f8cdfa2d4"
      },
      "execution_count": 11,
      "outputs": [
        {
          "output_type": "execute_result",
          "data": {
            "text/plain": [
              "13"
            ]
          },
          "metadata": {},
          "execution_count": 11
        }
      ]
    },
    {
      "cell_type": "code",
      "source": [
        "#Inheritance\n",
        "class Gatus:\n",
        "  def __init__ (self,name,birthdate):\n",
        "    self.name = name\n",
        "    self.birthdate = birthdate\n",
        "  def display(self):\n",
        "    print(\"My name is\",self.name)\n",
        "    print(\"My birthday is\",self.birthdate)\n",
        "\n",
        "class Student (Gatus):\n",
        "  pass\n",
        "person = Gatus(\"Edwin\",\"January 65 1626\")\n",
        "person.display()\n",
        "\n",
        "student = Gatus(\"Junior\", \"January 65 1626\")\n",
        "student.display()"
      ],
      "metadata": {
        "colab": {
          "base_uri": "https://localhost:8080/"
        },
        "id": "x1IaZAUH8obu",
        "outputId": "18f265c4-5f78-4f3f-bbe8-6a8c255fa93a"
      },
      "execution_count": 14,
      "outputs": [
        {
          "output_type": "stream",
          "name": "stdout",
          "text": [
            "My name is Edwin\n",
            "My birthday is January 65 1626\n",
            "My name is Junior\n",
            "My birthday is January 65 1626\n"
          ]
        }
      ]
    },
    {
      "cell_type": "code",
      "source": [
        "# create a class name Shapes (5 Shapes)\n",
        "# attributes sides\n",
        "# create a function /method that dispalys the \n",
        "# no of sides of each shape\n",
        "# apply inheritance and encapsulation"
      ],
      "metadata": {
        "id": "XQxThPq_EYpQ"
      },
      "execution_count": null,
      "outputs": []
    },
    {
      "cell_type": "code",
      "source": [
        "class Shapes:\n",
        "  def __init__(self, shape_name,shape_sides):\n",
        "    self.shape_name = shape_name\n",
        "    self.shape_sides = shape_sides\n",
        "  def display(self):\n",
        "    print(\"Name of the shape is\",self.shape_name)\n",
        "    print(\"Number of sides the shape has\",self.shape_sides)\n",
        "\n",
        "    class Triangle (Shapes):\n",
        "      pass\n",
        "    person = Shapes(\"Triangle\", \"3\")\n",
        "    person.display()\n"
      ],
      "metadata": {
        "id": "OAI8WwMxEq5o"
      },
      "execution_count": 18,
      "outputs": []
    },
    {
      "cell_type": "code",
      "source": [
        "#Inheritance\n",
        "class Shapes:\n",
        "  def __init__ (self,name,sides):\n",
        "    self.name = name\n",
        "    self.sides = sides\n",
        "  def display(self):\n",
        "    print(\"This shape is\",self.name)\n",
        "    print(\"It has\",self.sides,\"sides\")\n",
        "\n",
        "class Square (Shapes):\n",
        "  pass\n",
        "\n",
        "class Pentagon (Shapes):\n",
        "  pass\n",
        "\n",
        "class Hexagon (Shapes):\n",
        "  pass\n",
        "\n",
        "class Heptagon (Shapes):\n",
        "  pass   \n",
        "\n",
        "person = Shapes(\"Triangle\",\"3\")\n",
        "person.display()\n",
        "\n",
        "Square = Shapes(\"Square\", \"4\")\n",
        "Square.display()\n",
        "\n",
        "Pentagon = Shapes(\"Pentagon\", \"5\")\n",
        "Pentagon.display()\n",
        "\n",
        "Hexagon = Shapes(\"Hexagon\", \"6\")\n",
        "Hexagon.display()\n",
        "\n",
        "Heptagon = Shapes(\"Heptagon\", \"7\")\n",
        "Heptagon.display()"
      ],
      "metadata": {
        "colab": {
          "base_uri": "https://localhost:8080/"
        },
        "id": "Ixwtt5x1KkCo",
        "outputId": "09a63c19-7b7f-4a37-da9b-cfa76e766bd5"
      },
      "execution_count": 23,
      "outputs": [
        {
          "output_type": "stream",
          "name": "stdout",
          "text": [
            "This shape is Triangle\n",
            "It has 3 sides\n",
            "This shape is Square\n",
            "It has 4 sides\n",
            "This shape is Pentagon\n",
            "It has 5 sides\n",
            "This shape is Hexagon\n",
            "It has 6 sides\n",
            "This shape is Heptagon\n",
            "It has 7 sides\n"
          ]
        }
      ]
    }
  ]
}