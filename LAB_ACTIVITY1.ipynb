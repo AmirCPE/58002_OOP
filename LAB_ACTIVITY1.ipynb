{
  "nbformat": 4,
  "nbformat_minor": 0,
  "metadata": {
    "colab": {
      "provenance": [],
      "authorship_tag": "ABX9TyPLihn49JDj24wlQmqaP+AI",
      "include_colab_link": true
    },
    "kernelspec": {
      "name": "python3",
      "display_name": "Python 3"
    },
    "language_info": {
      "name": "python"
    }
  },
  "cells": [
    {
      "cell_type": "markdown",
      "metadata": {
        "id": "view-in-github",
        "colab_type": "text"
      },
      "source": [
        "<a href=\"https://colab.research.google.com/github/AmirGilbuena/58002_OOP/blob/main/LAB_ACTIVITY1.ipynb\" target=\"_parent\"><img src=\"https://colab.research.google.com/assets/colab-badge.svg\" alt=\"Open In Colab\"/></a>"
      ]
    },
    {
      "cell_type": "code",
      "execution_count": 21,
      "metadata": {
        "colab": {
          "base_uri": "https://localhost:8080/"
        },
        "id": "iHb4ER8InR-W",
        "outputId": "aed417ec-8de0-4725-e99c-18b64f98224e"
      },
      "outputs": [
        {
          "output_type": "stream",
          "name": "stdout",
          "text": [
            "Total numbers:\n",
            "{21}\n",
            "Sum:\n",
            "{210}\n",
            "Average:\n",
            "{10.0}\n"
          ]
        }
      ],
      "source": [
        "n = 20\n",
        "total = 0\n",
        "sum = 0\n",
        "average = 0\n",
        "\n",
        "while n >= 0:\n",
        "    sum += n\n",
        "    total += 1\n",
        "    n -= 1\n",
        "\n",
        "if n < 0:\n",
        "    average = sum / total\n",
        "    print(\"Total numbers:\")\n",
        "    print({total})\n",
        "    print(\"Sum:\")\n",
        "    print({sum})\n",
        "    print(\"Average:\")\n",
        "    print({average})\n",
        "\n",
        "exit()"
      ]
    },
    {
      "cell_type": "code",
      "source": [],
      "metadata": {
        "id": "RcJD-ymc3q42"
      },
      "execution_count": null,
      "outputs": []
    }
  ]
}