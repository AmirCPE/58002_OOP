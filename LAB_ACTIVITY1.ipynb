{
  "nbformat": 4,
  "nbformat_minor": 0,
  "metadata": {
    "colab": {
      "provenance": [],
      "authorship_tag": "ABX9TyNVF85wQkDP/wct3i2KszOe",
      "include_colab_link": true
    },
    "kernelspec": {
      "name": "python3",
      "display_name": "Python 3"
    },
    "language_info": {
      "name": "python"
    }
  },
  "cells": [
    {
      "cell_type": "markdown",
      "metadata": {
        "id": "view-in-github",
        "colab_type": "text"
      },
      "source": [
        "<a href=\"https://colab.research.google.com/github/AmirGilbuena/58002_OOP/blob/main/LAB_ACTIVITY1.ipynb\" target=\"_parent\"><img src=\"https://colab.research.google.com/assets/colab-badge.svg\" alt=\"Open In Colab\"/></a>"
      ]
    },
    {
      "cell_type": "code",
      "execution_count": 21,
      "metadata": {
        "colab": {
          "base_uri": "https://localhost:8080/"
        },
        "id": "iHb4ER8InR-W",
        "outputId": "aed417ec-8de0-4725-e99c-18b64f98224e"
      },
      "outputs": [
        {
          "output_type": "stream",
          "name": "stdout",
          "text": [
            "Total numbers:\n",
            "{21}\n",
            "Sum:\n",
            "{210}\n",
            "Average:\n",
            "{10.0}\n"
          ]
        }
      ],
      "source": [
        "n = 20\n",
        "total = 0\n",
        "sum = 0\n",
        "average = 0\n",
        "\n",
        "while n >= 0:\n",
        "    sum += n\n",
        "    total += 1\n",
        "    n -= 1\n",
        "\n",
        "if n < 0:\n",
        "    average = sum / total\n",
        "    print(\"Total numbers:\")\n",
        "    print({total})\n",
        "    print(\"Sum:\")\n",
        "    print({sum})\n",
        "    print(\"Average:\")\n",
        "    print({average})\n",
        "\n",
        "exit()"
      ]
    },
    {
      "cell_type": "markdown",
      "source": [
        "[flowchart](https://lucid.app/lucidchart/8bb0b575-bf4a-47e6-8318-0e7466aa427b/edit?viewport_loc=-279%2C-44%2C2694%2C1260%2C0_0&invitationId=inv_c6b46da8-0bee-4853-8cee-ad2523874b62)\n"
      ],
      "metadata": {
        "id": "HCO6Xvbb5q7E"
      }
    }
  ]
}