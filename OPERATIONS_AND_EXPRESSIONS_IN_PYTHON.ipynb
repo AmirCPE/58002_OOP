{
  "nbformat": 4,
  "nbformat_minor": 0,
  "metadata": {
    "colab": {
      "provenance": [],
      "authorship_tag": "ABX9TyNEiSv8P/2cGfol7JqQLxZ2",
      "include_colab_link": true
    },
    "kernelspec": {
      "name": "python3",
      "display_name": "Python 3"
    },
    "language_info": {
      "name": "python"
    }
  },
  "cells": [
    {
      "cell_type": "markdown",
      "metadata": {
        "id": "view-in-github",
        "colab_type": "text"
      },
      "source": [
        "<a href=\"https://colab.research.google.com/github/AmirGilbuena/58002_OOP/blob/main/OPERATIONS_AND_EXPRESSIONS_IN_PYTHON.ipynb\" target=\"_parent\"><img src=\"https://colab.research.google.com/assets/colab-badge.svg\" alt=\"Open In Colab\"/></a>"
      ]
    },
    {
      "cell_type": "markdown",
      "source": [
        "####Operations and Expressions in Python"
      ],
      "metadata": {
        "id": "9Li9NMCdyqg2"
      }
    },
    {
      "cell_type": "markdown",
      "source": [
        "Boolean Operators\n",
        "- Booleans represent one of two values: True or false\n",
        "- When you evaluate two values, The python evaluates and returns the Boolean answer\n"
      ],
      "metadata": {
        "id": "Lfi2QOS9y4Pt"
      }
    },
    {
      "cell_type": "markdown",
      "source": [
        "Type of Boolean functions\n",
        "\n",
        "* Comparison/Relational\n",
        "* Logical\n",
        "* Identity"
      ],
      "metadata": {
        "id": "yEceYPjJ01J6"
      }
    },
    {
      "cell_type": "code",
      "execution_count": 1,
      "metadata": {
        "colab": {
          "base_uri": "https://localhost:8080/"
        },
        "id": "6XVCcGsUyqB7",
        "outputId": "92d15ffd-1021-4382-cefc-eb2e6f4484da"
      },
      "outputs": [
        {
          "output_type": "stream",
          "name": "stdout",
          "text": [
            "True\n",
            "False\n",
            "False\n"
          ]
        }
      ],
      "source": [
        "print (10 > 9)\n",
        "print (10 == 9)\n",
        "print (10 < 9)"
      ]
    },
    {
      "cell_type": "code",
      "source": [
        "a = 10\n",
        "b = 9\n",
        "print (a>b)\n",
        "print (a<b)\n",
        "print (a==b)\n",
        "print (b==b)"
      ],
      "metadata": {
        "colab": {
          "base_uri": "https://localhost:8080/"
        },
        "id": "9molXc160Yn5",
        "outputId": "746c0f6a-b5c4-45d3-d3d6-0f11d3025386"
      },
      "execution_count": 3,
      "outputs": [
        {
          "output_type": "stream",
          "name": "stdout",
          "text": [
            "True\n",
            "False\n",
            "False\n",
            "True\n"
          ]
        }
      ]
    },
    {
      "cell_type": "markdown",
      "source": [
        "Bool (function)"
      ],
      "metadata": {
        "id": "GY8cJEzZ1Deq"
      }
    },
    {
      "cell_type": "code",
      "source": [
        "print (bool(1))\n",
        "print (bool(\"I miss you\"))\n",
        "print (bool(0))\n",
        "print (bool(None))\n",
        "print (bool([]))"
      ],
      "metadata": {
        "colab": {
          "base_uri": "https://localhost:8080/"
        },
        "id": "9CXxq2U51CgK",
        "outputId": "4b758f92-790f-4d2b-f813-bdd0968b764b"
      },
      "execution_count": 6,
      "outputs": [
        {
          "output_type": "stream",
          "name": "stdout",
          "text": [
            "True\n",
            "True\n",
            "False\n",
            "False\n",
            "False\n"
          ]
        }
      ]
    },
    {
      "cell_type": "markdown",
      "source": [
        "The bool function allows you to evaluate any value, and give you True or False in return,"
      ],
      "metadata": {
        "id": "4DQcxPLAzaZc"
      }
    },
    {
      "cell_type": "code",
      "source": [
        "print (bool(\"Hello\"))\n",
        "print (bool(15))"
      ],
      "metadata": {
        "id": "Q19RvkOvzetr"
      },
      "execution_count": null,
      "outputs": []
    },
    {
      "cell_type": "markdown",
      "source": [
        "Almost any value is ex"
      ],
      "metadata": {
        "id": "bnvBtPkLzkOA"
      }
    },
    {
      "cell_type": "code",
      "source": [],
      "metadata": {
        "id": "1KDzaUEczjQQ"
      },
      "execution_count": null,
      "outputs": []
    },
    {
      "cell_type": "markdown",
      "source": [
        "Functions can Return a Boolean"
      ],
      "metadata": {
        "id": "3izN6SZk1ezj"
      }
    },
    {
      "cell_type": "code",
      "source": [
        "def myFunction():\n",
        "  return True\n",
        "\n",
        "  print(myFunction())"
      ],
      "metadata": {
        "id": "HT-GoccK1hux"
      },
      "execution_count": 21,
      "outputs": []
    },
    {
      "cell_type": "code",
      "source": [
        "def myFunction():\n",
        "  return True\n",
        "if myFunction():\n",
        "  print (\"Yes!\")\n",
        "else:\n",
        "  print (\"No!\")"
      ],
      "metadata": {
        "colab": {
          "base_uri": "https://localhost:8080/"
        },
        "id": "yOVapXAR2eLj",
        "outputId": "59c46918-e167-430c-e2cb-f3f758cbd21a"
      },
      "execution_count": 20,
      "outputs": [
        {
          "output_type": "stream",
          "name": "stdout",
          "text": [
            "No!\n"
          ]
        }
      ]
    },
    {
      "cell_type": "markdown",
      "source": [
        "You can execute code based on the Boolean answer"
      ],
      "metadata": {
        "id": "vSHdby8e3Sqd"
      }
    },
    {
      "cell_type": "code",
      "source": [
        "print (10>9)\n",
        "\n",
        "a=6\n",
        "b=7\n",
        "print (a==b)\n",
        "print (a!=a)"
      ],
      "metadata": {
        "colab": {
          "base_uri": "https://localhost:8080/"
        },
        "id": "9USSBEqO3WPb",
        "outputId": "f120d2e0-6e7c-4c99-ffc2-c0beb9806389"
      },
      "execution_count": 22,
      "outputs": [
        {
          "output_type": "stream",
          "name": "stdout",
          "text": [
            "True\n",
            "False\n",
            "False\n"
          ]
        }
      ]
    },
    {
      "cell_type": "markdown",
      "source": [
        "Python Operators\n",
        "* Operators are used to perform operations on variables and values.\n",
        "* In the example below, use the + operator to add together two values:"
      ],
      "metadata": {
        "id": "LO-lIEel3v89"
      }
    },
    {
      "cell_type": "code",
      "source": [
        "print(10+5)\n",
        "print(10-5)\n",
        "print(10%5)\n",
        "print(10//3)\n",
        "print(10**2)\n",
        "print(10/3)\n",
        "print(10%3)"
      ],
      "metadata": {
        "colab": {
          "base_uri": "https://localhost:8080/"
        },
        "id": "kw_fdQre31Rt",
        "outputId": "5f3575b5-d040-43d2-b2d1-fbfdca26ef39"
      },
      "execution_count": 25,
      "outputs": [
        {
          "output_type": "stream",
          "name": "stdout",
          "text": [
            "15\n",
            "5\n",
            "0\n",
            "3\n",
            "100\n",
            "3.3333333333333335\n",
            "1\n"
          ]
        }
      ]
    },
    {
      "cell_type": "markdown",
      "source": [
        "Python Bitwise Operators\n",
        "* Bitwise operators works on bits and performs bit-by-bit oepration. Assume if a = 60; and b = 13; now in binary format they will be as follows-"
      ],
      "metadata": {
        "id": "hw-7uU8942MN"
      }
    },
    {
      "cell_type": "code",
      "source": [
        "a = 60\n",
        "b = 13\n",
        "\n",
        "a >> 2\n"
      ],
      "metadata": {
        "colab": {
          "base_uri": "https://localhost:8080/"
        },
        "id": "C9-1GWiV46E0",
        "outputId": "d560b165-bde6-40c9-b46d-113b58ef0257"
      },
      "execution_count": 30,
      "outputs": [
        {
          "output_type": "execute_result",
          "data": {
            "text/plain": [
              "15"
            ]
          },
          "metadata": {},
          "execution_count": 30
        }
      ]
    },
    {
      "cell_type": "markdown",
      "source": [
        "Python Assignment Operators"
      ],
      "metadata": {
        "id": "fKIIM6D89-wL"
      }
    },
    {
      "cell_type": "code",
      "source": [
        "x=1\n",
        "x += 3 # same as x = x + 3\n",
        "print(x)\n",
        "x -= 3 # same as x = x - 3\n",
        "print(x)\n",
        "x *= 3 # same as x = x * 3\n",
        "print(x)\n",
        "x /= 3 # same as x = x / 3\n",
        "print(x)\n",
        "x %= 3 # same as x = x % 3\n",
        "print(x)\n"
      ],
      "metadata": {
        "colab": {
          "base_uri": "https://localhost:8080/"
        },
        "id": "XRp7I_4m9-k0",
        "outputId": "c5ebb65a-4406-45e3-8415-20d825a7e4d9"
      },
      "execution_count": 36,
      "outputs": [
        {
          "output_type": "stream",
          "name": "stdout",
          "text": [
            "4\n",
            "1\n",
            "3\n",
            "1.0\n",
            "1.0\n"
          ]
        }
      ]
    },
    {
      "cell_type": "markdown",
      "source": [
        "Logical Operators"
      ],
      "metadata": {
        "id": "HCOL6W6c_ujx"
      }
    },
    {
      "cell_type": "code",
      "source": [
        "x = True\n",
        "y = False"
      ],
      "metadata": {
        "id": "xAeb3kfPAbkZ"
      },
      "execution_count": 39,
      "outputs": []
    },
    {
      "cell_type": "code",
      "source": [
        "print(x)\n",
        "\n"
      ],
      "metadata": {
        "colab": {
          "base_uri": "https://localhost:8080/"
        },
        "id": "na19yUvf_veB",
        "outputId": "96cc421d-452f-4218-9bba-f25b290e437a"
      },
      "execution_count": 40,
      "outputs": [
        {
          "output_type": "stream",
          "name": "stdout",
          "text": [
            "True\n"
          ]
        }
      ]
    },
    {
      "cell_type": "code",
      "source": [
        "print(x and y)\n",
        "print(x or y)\n",
        "print(not (x or y))"
      ],
      "metadata": {
        "colab": {
          "base_uri": "https://localhost:8080/"
        },
        "id": "627N72ZDAk5J",
        "outputId": "1d404df5-30ca-4629-ecd1-668d9d95fac5"
      },
      "execution_count": 42,
      "outputs": [
        {
          "output_type": "stream",
          "name": "stdout",
          "text": [
            "False\n",
            "True\n",
            "False\n"
          ]
        }
      ]
    },
    {
      "cell_type": "markdown",
      "source": [
        "Identity Operators"
      ],
      "metadata": {
        "id": "0g4QB1m7BTER"
      }
    },
    {
      "cell_type": "code",
      "source": [
        "print(x is y)\n",
        "print(x is not y)"
      ],
      "metadata": {
        "colab": {
          "base_uri": "https://localhost:8080/"
        },
        "id": "GxRaqa1hBWdQ",
        "outputId": "94c97f25-e3f0-4209-e58b-933f447256b3"
      },
      "execution_count": 43,
      "outputs": [
        {
          "output_type": "stream",
          "name": "stdout",
          "text": [
            "False\n",
            "True\n"
          ]
        }
      ]
    }
  ]
}